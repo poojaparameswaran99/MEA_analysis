{
 "cells": [
  {
   "cell_type": "code",
   "execution_count": 1,
   "metadata": {
    "is_executing": true
   },
   "outputs": [
    {
     "name": "stdout",
     "output_type": "stream",
     "text": [
      "Requirement already satisfied: xlsxwriter in /home/poojaparameswaran/anaconda3/envs/dataenv/lib/python3.11/site-packages (3.1.2)\n"
     ]
    }
   ],
   "source": [
    "import pandas as pd\n",
    "import numpy as np\n",
    "from tqdm import tqdm\n",
    "import os\n",
    "from scipy import stats\n",
    "import warnings\n",
    "import pandas as pd\n",
    "import matplotlib.pyplot as plt\n",
    "import seaborn as sns\n",
    "!pip install xlsxwriter\n",
    "pd.options.mode.chained_assignment = None  # default='warn'"
   ]
  },
  {
   "cell_type": "code",
   "execution_count": 2,
   "metadata": {},
   "outputs": [
    {
     "name": "stdout",
     "output_type": "stream",
     "text": [
      "/home/poojaparameswaran/Documents/SoderlingLab/MEA_analysis\n"
     ]
    }
   ],
   "source": [
    "currdir = os.getcwd()\n",
    "print(currdir)\n",
    "lines_to_skip = 10 # adjust this as necessary\n",
    "\n",
    "# count the number of header lines\n",
    "header_lines = 3 # adjust this as necessary\n",
    "\n",
    "plate_type = 'DIV19'\n",
    "# read the csv file into a pandas DataFrame, skipping the metadata at the top\n",
    "# df = pd.read_csv(filename, skiprows=lines_to_skip, header=[i for i in range(header_lines)])\n",
    "### read all data\n",
    "exp1 = pd.read_csv(currdir + '/data/Div19/Div19 H11 5th batch of gRNAs plate1 basal(000)(000)_CompiledData.csv',\n",
    "                   engine='python', skiprows = lines_to_skip)\n",
    "exp2 = pd.read_csv(currdir + '/data/Div19/Div19 H11 5th batch of gRNAs plate2 basal(000)(000)_CompiledData.csv', engine='python',\n",
    "                  skiprows = lines_to_skip)\n",
    "exp3 = pd.read_csv(currdir + '/data/Div19/Div19 H11 5th batch of gRNAs plate 3 basal(000)(000)_CompiledData.csv', engine='python',\n",
    "                  skiprows = lines_to_skip)\n",
    "\n",
    "exp1 = exp1.drop(columns=['Unnamed: 9'])\n",
    "exp2 = exp2.drop(columns=['Unnamed: 9'])\n",
    "exp3 = exp3.drop(columns=['Unnamed: 9'])\n",
    "\n",
    "##\n",
    "\n",
    "firstTableHeading = \"Mean Firing Rate (Hz)\""
   ]
  },
  {
   "cell_type": "code",
   "execution_count": 3,
   "metadata": {},
   "outputs": [
    {
     "name": "stdout",
     "output_type": "stream",
     "text": [
      "    Unnamed: 0  GPR37L 1  GPR37L 2  LGI2 A12   SLITRK5   THSD7 1   THSD7 2  \\\n",
      "260        NaN  8.000000  8.000000  8.000000  7.000000  8.000000  8.000000   \n",
      "261        NaN  8.000000  8.000000  8.000000  8.000000  8.000000  6.000000   \n",
      "262        NaN  8.000000  8.000000  8.000000  8.000000  8.000000  5.000000   \n",
      "263        NaN  8.000000  4.000000  8.000000  8.000000  8.000000  8.000000   \n",
      "264        NaN  8.000000  8.000000  8.000000  8.000000  8.000000  8.000000   \n",
      "265        NaN  8.000000  8.000000  8.000000  8.000000  8.000000  4.000000   \n",
      "266        NaN  8.000000  8.000000  8.000000  8.000000  8.000000  8.000000   \n",
      "267        NaN  8.000000  8.000000  8.000000  8.000000  8.000000  5.000000   \n",
      "268        NaN  8.000000  8.000000  8.000000  8.000000  8.000000  5.000000   \n",
      "269        NaN  8.000000  8.000000  8.000000  8.000000  8.000000  8.000000   \n",
      "\n",
      "         unt1      unt2  \n",
      "260  8.000000  8.000000  \n",
      "261  8.000000  8.000000  \n",
      "262  8.000000  8.000000  \n",
      "263  8.000000  8.000000  \n",
      "264  8.000000  8.000000  \n",
      "265  8.000000  8.000000  \n",
      "266  8.000000  8.000000  \n",
      "267  8.000000  8.000000  \n",
      "268  8.000000  8.000000  \n",
      "269  8.000000  8.000000  \n"
     ]
    }
   ],
   "source": [
    "print(exp1.tail(10))"
   ]
  },
  {
   "cell_type": "code",
   "execution_count": 4,
   "metadata": {},
   "outputs": [],
   "source": [
    "\n",
    "def rename_row_names(experiment_df):\n",
    "    replace_rows = experiment_df['Unnamed: 0'].isin(['B Replicates', np.nan]) \n",
    "    replace_count = replace_rows.sum()\n",
    "    \n",
    "    replicates = (f\"B Replicate {i+1}\" for i in range(replace_count))\n",
    "    with pd.option_context('mode.chained_assignment', None):\n",
    "        experiment_df.loc[replace_rows, 'Unnamed: 0'] = list(replicates)\n",
    "    return experiment_df\n"
   ]
  },
  {
   "cell_type": "code",
   "execution_count": 5,
   "metadata": {
    "scrolled": true
   },
   "outputs": [],
   "source": [
    "def section_data(exp_num, firstHeading):\n",
    "    maxrows = exp_num.shape[0]\n",
    "    vals_between_tables = 16\n",
    "    titles = [heading_ind for heading_ind in range(14, maxrows+16, 16)]\n",
    "    # print(titles[-1], print(exp_num.iloc[254]))\n",
    "    # print(maxrows, titles)\n",
    "    # print(maxrows, titles)\n",
    "    titles.insert(0,0)\n",
    "\n",
    "    # # Empty dictionary to store dataframes\n",
    "    experiment = {}\n",
    "    \n",
    "    # Loop through start indices\n",
    "    for ind in range(len(titles) -1):\n",
    "\n",
    "        if ind == 0:\n",
    "            ## Handle mean firing rate\n",
    "            key = firstHeading\n",
    "            table = exp_num.iloc[titles[ind] : titles[ind +1], :]\n",
    "            table = rename_row_names(table)\n",
    "        elif ind != 0:\n",
    "            table = exp_num.iloc[titles[ind] : titles[ind +1], :]\n",
    "\n",
    "            key = table.iloc[0][0]\n",
    "            table = exp_num.iloc[titles[ind] +2: titles[ind +1], :]\n",
    "\n",
    "            table = rename_row_names(table)\n",
    "        table.set_index('Unnamed: 0', inplace=True)\n",
    "        experiment[key] = table\n",
    "    return experiment                   \n",
    "exp1_dict = section_data(exp1, firstTableHeading)\n",
    "exp2_dict = section_data(exp2, firstTableHeading)\n",
    "exp3_dict = section_data(exp3, firstTableHeading)"
   ]
  },
  {
   "cell_type": "code",
   "execution_count": 6,
   "metadata": {},
   "outputs": [],
   "source": [
    "experiments = [exp1_dict, exp2_dict, exp3_dict]"
   ]
  },
  {
   "cell_type": "code",
   "execution_count": null,
   "metadata": {},
   "outputs": [],
   "source": []
  },
  {
   "cell_type": "code",
   "execution_count": 7,
   "metadata": {},
   "outputs": [],
   "source": [
    "def df_is_in(sub_df, df):\n",
    "    # Convert rows of each DataFrame to tuples\n",
    "    sub_tuples = set(sub_df.apply(tuple, axis=1))\n",
    "    df_tuples = set(df.apply(tuple, axis=1))\n",
    "    \n",
    "    # Check if all tuples of sub_df exist in df\n",
    "    return sub_tuples.issubset(df_tuples)\n"
   ]
  },
  {
   "cell_type": "code",
   "execution_count": 13,
   "metadata": {},
   "outputs": [
    {
     "data": {
      "text/plain": [
       "17"
      ]
     },
     "execution_count": 13,
     "metadata": {},
     "output_type": "execute_result"
    }
   ],
   "source": [
    "def merge_experiments_DIV(list_of_dicts):\n",
    "    data = {}\n",
    "    for i, dictionary in enumerate(list_of_dicts):\n",
    "        data[f\"exp{i +1}\"] = dictionary\n",
    "    merged_data = data[\"exp1\"].copy()\n",
    "    \n",
    "    for i, (exp, dictionary) in enumerate(data.items()):\n",
    "        if exp == \"exp1\":\n",
    "            continue\n",
    "        for key, value in dictionary.items():\n",
    "            merged_data[key] = pd.concat([merged_data[key], value])\n",
    "\n",
    "\n",
    "    return merged_data\n",
    "\n",
    "data = merge_experiments_DIV(experiments)\n",
    "len(list(data.keys()))"
   ]
  },
  {
   "cell_type": "code",
   "execution_count": 9,
   "metadata": {},
   "outputs": [
    {
     "name": "stdout",
     "output_type": "stream",
     "text": [
      "dict_keys(['Mean Firing Rate (Hz)', 'Number of Active Electrodes', 'Weighted Mean Firing Rate (Hz)', 'Number of Bursting Electrodes', 'Burst Frequency - Avg (Hz)', 'Burst Duration - Avg (s)', 'Normalized Duration IQR - Avg', 'IBI Coefficient of Variation - Avg', 'Burst Percentage - Avg', 'Network Burst Frequency (Hz)', 'Network Burst Duration - Avg (sec)', 'Network Burst Percentage', 'Network IBI Coefficient of Variation', 'Network Normalized Duration IQR', 'Area Under Normalized Cross-Correlation', 'Resistance - Avg (kOhms)', 'Number of Covered Electrodes'])\n",
      "(42, 8)\n"
     ]
    }
   ],
   "source": [
    "print(data.keys())\n",
    "print(data['Mean Firing Rate (Hz)'].shape)\n",
    "\n",
    "# data['exp2']['Mean Firing Rate (Hz)'].shape\n",
    "\n",
    "# data['Mean Firing Rate (Hz)'].to_csv(\"data_exp1_meanfiringrate_check.csv\")\n"
   ]
  },
  {
   "cell_type": "code",
   "execution_count": 10,
   "metadata": {},
   "outputs": [
    {
     "data": {
      "text/plain": [
       "{'Mean Firing Rate (Hz)': {'GPR37L 1': [-1.5662039991494299,\n",
       "   0.1218106916423217],\n",
       "  'GPR37L 2': [-0.05516438294303124, 0.9561646516912126],\n",
       "  'LGI2 A12': [-2.7769023429435933, 0.00703633855892296],\n",
       "  'SLITRK5': [3.0396747493009033, 0.0033293793831870077],\n",
       "  'THSD7 1': [-2.067793277790329, 0.04235714956629388],\n",
       "  'THSD7 2': [-2.0846015904776327, 0.040755350579504177]},\n",
       " 'Number of Active Electrodes': {'GPR37L 1': [-1.5639930312818497,\n",
       "   0.12232911970797464],\n",
       "  'GPR37L 2': [-0.5854603947115816, 0.5601209494743882],\n",
       "  'LGI2 A12': [-1.2283245770687758, 0.2234390872616696],\n",
       "  'SLITRK5': [1.2511175683948819, 0.2150569420110261],\n",
       "  'THSD7 1': [-0.20622157744437153, 0.8372164590638994],\n",
       "  'THSD7 2': [-1.1577674774819418, 0.2508940794948984]},\n",
       " 'Weighted Mean Firing Rate (Hz)': {'GPR37L 1': [-1.3169540002625308,\n",
       "   0.1921491568910909],\n",
       "  'GPR37L 2': [-0.015440267605452614, 0.9877248619990111],\n",
       "  'LGI2 A12': [-2.642736065858664, 0.01013956522316899],\n",
       "  'SLITRK5': [2.8531171071170442, 0.005688495979269989],\n",
       "  'THSD7 1': [-2.1897244497187263, 0.03187921486457034],\n",
       "  'THSD7 2': [-2.0325007406093167, 0.045898236949546894]},\n",
       " 'Number of Bursting Electrodes': {'GPR37L 1': [-1.8727023330086687,\n",
       "   0.06528597365718518],\n",
       "  'GPR37L 2': [-1.0212287814570677, 0.31066256047454516],\n",
       "  'LGI2 A12': [-1.2550527940097078, 0.21363349845278617],\n",
       "  'SLITRK5': [0.0, 1.0],\n",
       "  'THSD7 1': [-0.43673297885880674, 0.6636492398792404],\n",
       "  'THSD7 2': [-1.4196042215036317, 0.16016106425081061]},\n",
       " 'Burst Frequency - Avg (Hz)': {'GPR37L 1': [0.05714972893411859,\n",
       "   0.9545887445349326],\n",
       "  'GPR37L 2': [1.6079286811199949, 0.11235229340625523],\n",
       "  'LGI2 A12': [-1.3158724648911513, 0.19251006614071942],\n",
       "  'SLITRK5': [4.385596360755677, 3.9928919053686935e-05],\n",
       "  'THSD7 1': [-1.1474783592844646, 0.25509070322501015],\n",
       "  'THSD7 2': [-0.3694673438011939, 0.7128947546328226]},\n",
       " 'Burst Duration - Avg (s)': {'GPR37L 1': [-1.2796039737502312,\n",
       "   0.20490944262684238],\n",
       "  'GPR37L 2': [-1.1262265378581673, 0.2639159362929068],\n",
       "  'LGI2 A12': [-2.3049782660474665, 0.024137395779812887],\n",
       "  'SLITRK5': [-2.52708418680905, 0.013763276166475168],\n",
       "  'THSD7 1': [-2.0078664912364115, 0.04851834024342807],\n",
       "  'THSD7 2': [-1.7525065104789532, 0.08406554041471774]},\n",
       " 'Normalized Duration IQR - Avg': {'GPR37L 1': [-2.0849808188722667,\n",
       "   0.04071982413127432],\n",
       "  'GPR37L 2': [-1.826006216338213, 0.07211420108236377],\n",
       "  'LGI2 A12': [-1.82891867173746, 0.07167150359301902],\n",
       "  'SLITRK5': [-1.6281019166846697, 0.10799626858788434],\n",
       "  'THSD7 1': [-1.7594401933830108, 0.08287220954222276],\n",
       "  'THSD7 2': [-2.4811442171426004, 0.015501321614115217]},\n",
       " 'IBI Coefficient of Variation - Avg': {'GPR37L 1': [1.123058624380371,\n",
       "   0.26524968284774686],\n",
       "  'GPR37L 2': [-0.5525387373073328, 0.5823394101222596],\n",
       "  'LGI2 A12': [0.2460886425074306, 0.8063337818360843],\n",
       "  'SLITRK5': [-5.799613422024866, 1.7621793364281168e-07],\n",
       "  'THSD7 1': [1.6994371059272977, 0.09367702792164674],\n",
       "  'THSD7 2': [1.5023958196304328, 0.137492950353294]},\n",
       " 'Burst Percentage - Avg': {'GPR37L 1': [-2.386665428774588,\n",
       "   0.01970836506883103],\n",
       "  'GPR37L 2': [-2.149303951252894, 0.03506920383607522],\n",
       "  'LGI2 A12': [-1.91588792186439, 0.059464016555295054],\n",
       "  'SLITRK5': [-1.1925867903394636, 0.23705820962167606],\n",
       "  'THSD7 1': [-1.3814294768726518, 0.17154061898577547],\n",
       "  'THSD7 2': [-1.905314757078372, 0.06084714883559529]},\n",
       " 'Network Burst Frequency (Hz)': {'GPR37L 1': [0.270725457901893,\n",
       "   0.7873988689240142],\n",
       "  'GPR37L 2': [1.6379210530565407, 0.10592597489207627],\n",
       "  'LGI2 A12': [nan, nan],\n",
       "  'SLITRK5': [3.60530803062386, 0.0005800145027473729],\n",
       "  'THSD7 1': [-1.0857635489440656, 0.2813086318461584],\n",
       "  'THSD7 2': [-0.25031957473439137, 0.8030734465169779]},\n",
       " 'Network Burst Duration - Avg (sec)': {'GPR37L 1': [0.33570838319199026,\n",
       "   0.738094910924646],\n",
       "  'GPR37L 2': [1.1266693299356327, 0.2637298901787103],\n",
       "  'LGI2 A12': [nan, nan],\n",
       "  'SLITRK5': [0.40806354884971724, 0.6844725089092999],\n",
       "  'THSD7 1': [-0.050145926176903693, 0.9601489160374203],\n",
       "  'THSD7 2': [-0.9471833975979045, 0.3468037350563604]},\n",
       " 'Network Burst Percentage': {'GPR37L 1': [-0.40418855587213703,\n",
       "   0.6873063462470161],\n",
       "  'GPR37L 2': [-1.0281386849963405, 0.30742422632341604],\n",
       "  'LGI2 A12': [nan, nan],\n",
       "  'SLITRK5': [-3.4048814997205894, 0.001099405537526412],\n",
       "  'THSD7 1': [-1.0610759374781298, 0.29230269573278883],\n",
       "  'THSD7 2': [-1.4197766015955924, 0.16011103432907978]},\n",
       " 'Network IBI Coefficient of Variation': {'GPR37L 1': [1.2628085468189605,\n",
       "   0.21084845343888903],\n",
       "  'GPR37L 2': [-0.7510592971260108, 0.45513451184702447],\n",
       "  'LGI2 A12': [nan, nan],\n",
       "  'SLITRK5': [-5.764999622240576, 2.0253562763774652e-07],\n",
       "  'THSD7 1': [1.8173843343154323, 0.07343816846829088],\n",
       "  'THSD7 2': [1.7252108771859356, 0.08890211543428958]},\n",
       " 'Network Normalized Duration IQR': {'GPR37L 1': [-0.9133823345122161,\n",
       "   0.36417679312074924],\n",
       "  'GPR37L 2': [-0.7378191678815818, 0.4630906191253832],\n",
       "  'LGI2 A12': [nan, nan],\n",
       "  'SLITRK5': [-0.716612001885549, 0.4759977156366727],\n",
       "  'THSD7 1': [-0.3992514196267503, 0.6909234511487226],\n",
       "  'THSD7 2': [-0.6984447998831308, 0.48721300659801503]},\n",
       " 'Area Under Normalized Cross-Correlation': {'GPR37L 1': [-3.387771703567546,\n",
       "   0.001159930727465846],\n",
       "  'GPR37L 2': [-2.456599815973717, 0.016508629542254315],\n",
       "  'LGI2 A12': [-2.0995043804665285, 0.03937927422195545],\n",
       "  'SLITRK5': [-2.127943849964696, 0.03686478715264723],\n",
       "  'THSD7 1': [-3.096335142159579, 0.002817742760450285],\n",
       "  'THSD7 2': [-2.4149366662058465, 0.018353566799271744]},\n",
       " 'Resistance - Avg (kOhms)': {'GPR37L 1': [-0.4980898659869224,\n",
       "   0.6199820294718887],\n",
       "  'GPR37L 2': [-0.5877369479744535, 0.5586001739183932],\n",
       "  'LGI2 A12': [-0.9309966702286219, 0.35505509089557197],\n",
       "  'SLITRK5': [-1.9446225911465624, 0.05583904586778203],\n",
       "  'THSD7 1': [-1.0417380777268306, 0.3011177457385938],\n",
       "  'THSD7 2': [-2.1591269340281376, 0.034269382853433866]},\n",
       " 'Number of Covered Electrodes': {'GPR37L 1': [0.6553227088700245,\n",
       "   0.5144079325313584],\n",
       "  'GPR37L 2': [-0.9396523392553258, 0.35062714303563713],\n",
       "  'LGI2 A12': [-1.015429250618402, 0.31339820684022673],\n",
       "  'SLITRK5': [-0.7276068751089964, 0.4692810047757787],\n",
       "  'THSD7 1': [0.0, 1.0],\n",
       "  'THSD7 2': [-1.7208201799307417, 0.0897010966915721]}}"
      ]
     },
     "execution_count": 10,
     "metadata": {},
     "output_type": "execute_result"
    }
   ],
   "source": [
    "\n",
    "def perform_t_test(exp_df):\n",
    "    exp_results = {}\n",
    "    for variable_test in exp_df.keys():\n",
    "        exp_results[variable_test] = {}\n",
    "        # print(exp_df[variable_test])\n",
    "        table = exp_df[variable_test].copy()  # Create a deep copy\n",
    "        table.drop(['B Mean', 'B SEM'], axis = 0, inplace=True)\n",
    "        test_variables = [col for col in table.columns if \"unt\" not in col.lower()]\n",
    "        control_name = \"unt2\"\n",
    "        for testitem in test_variables:\n",
    "            exp_group = list(table[testitem].astype(float))\n",
    "            control_group = list(table[control_name].astype(float))\n",
    "            try:\n",
    "                with warnings.catch_warnings(record=True) as w:\n",
    "                    warnings.simplefilter(\"always\")  # Cause all warnings to always be triggered\n",
    "\n",
    "                    t_stat, pval = stats.ttest_ind(exp_group, control_group)\n",
    "\n",
    "                    if len(w) > 0:\n",
    "                        # A warning occurred, add a note to the results\n",
    "                        exp_results[variable_test][testitem] = [t_stat, pval, 'Warning: ' + str(w[-1].message)]\n",
    "                    else:\n",
    "                        # No warning, add results normallytqdm\n",
    "                        ## first value is t-stat like FC, second is Pvalue\n",
    "                        exp_results[variable_test][testitem] = [t_stat, pval]\n",
    "            except RuntimeError as re:\n",
    "                # Catch any runtime errors and handle them\n",
    "                print(f'Error: {str(re)}')\n",
    "    return exp_results\n",
    "\n",
    "all_experiments_results = perform_t_test(data)\n",
    "all_experiments_results"
   ]
  },
  {
   "cell_type": "code",
   "execution_count": 11,
   "metadata": {},
   "outputs": [],
   "source": [
    "# exp1.iloc[62:79]\n",
    "def analyze_test_results(experiment_res, outfile):\n",
    "    col_names = ['Test Types', 'Gene', 'T-statistic', 'Regulation', 'P-value', 'Significance', 'Warnings']\n",
    "    df = pd.DataFrame(columns = col_names)\n",
    "\n",
    "    directory = os.path.dirname(outfile)\n",
    "    if not os.path.exists(directory):\n",
    "        os.makedirs(directory)\n",
    "\n",
    "    for test in (experiment_res.keys()):\n",
    "        for prot in experiment_res[test].keys():\n",
    "            new_row = {}\n",
    "\n",
    "            new_row['Test Types'] = test\n",
    "            new_row['Gene'] = prot\n",
    "            t_stat = experiment_res[test][prot][0]\n",
    "            new_row['T-statistic'] = t_stat\n",
    "            if t_stat < 0:\n",
    "                new_row['Regulation'] = \"Down-Regulated\"\n",
    "            elif t_stat > 0:\n",
    "                new_row['Regulation'] = \"Up-Regulated\"\n",
    "            else:\n",
    "                new_row['Regulation'] = \"Same/NA\"\n",
    "            \n",
    "            pval = experiment_res[test][prot][1]\n",
    "            new_row['P-value'] = pval\n",
    "            if pval <= 0.05:\n",
    "                new_row['Significance'] = \"Significant diff between gene and control\"\n",
    "            else:\n",
    "                new_row['Significance'] = \"Not Significant\"\n",
    "            if len(experiment_res[test][prot]) > 2:\n",
    "                new_row['Warnings'] = experiment_res[test][prot][2]\n",
    "            else:\n",
    "                new_row['Warnings'] = \"No Warning\"\n",
    "\n",
    "            df = pd.concat([df, pd.DataFrame([new_row])], ignore_index=True)\n",
    "    df.to_csv(outfile)\n",
    "    return df\n",
    "\n",
    "\n",
    "test_results = analyze_test_results(all_experiments_results, f'predictions/{plate_type}/all_plates.csv')"
   ]
  },
  {
   "cell_type": "code",
   "execution_count": 16,
   "metadata": {},
   "outputs": [
    {
     "name": "stderr",
     "output_type": "stream",
     "text": [
      "/tmp/ipykernel_2157763/1825315779.py:17: FutureWarning: save is not part of the public API, usage can give unexpected results and will be removed in a future version\n",
      "  writer.save()\n"
     ]
    },
    {
     "data": {
      "text/plain": [
       "'File Created'"
      ]
     },
     "execution_count": 16,
     "metadata": {},
     "output_type": "execute_result"
    }
   ],
   "source": [
    "\n",
    "def save_all_to_excel(dataframes, outfile):\n",
    "    # Convert single dataframe to a list of one dataframe for consistency\n",
    "    if isinstance(dataframes, pd.DataFrame):\n",
    "        dataframes = [dataframes]\n",
    "        sheet_names = ['experiment 1']\n",
    "    else:\n",
    "        sheet_names = ['experiment {}'.format(i+1) for i in range(len(dataframes))]\n",
    "\n",
    "    directory = os.path.dirname(outfile)\n",
    "    if not os.path.exists(directory):\n",
    "        os.makedirs(directory)\n",
    "    writer = pd.ExcelWriter(outfile, engine='xlsxwriter')\n",
    "\n",
    "    for df, sheetname in zip(dataframes, sheet_names):\n",
    "        df.to_excel(writer, sheet_name=sheetname)\n",
    "    \n",
    "    writer.save()\n",
    "    if os.path.exists(outfile):\n",
    "        return \"File Created\"\n",
    "    else:\n",
    "        return \"Problem in experiments to excel file\"\n",
    "\n",
    "save_all_to_excel(test_results, f\"predictions/{plate_type}_3plates.xlsx\")"
   ]
  },
  {
   "cell_type": "code",
   "execution_count": 17,
   "metadata": {},
   "outputs": [],
   "source": [
    "def main():\n",
    "    exp1_df = section_data(exp1, firstTableHeading)\n",
    "    exp2_df = section_data(exp2, firstTableHeading)\n",
    "    exp3_df = section_data(exp3, firstTableHeading)\n",
    "    ## combine 3 tests to get analysis for all replicates \n",
    "    experiments = [exp1_dict, exp2_dict, exp3_dict]\n",
    "    data = merge_experiments_DIV(experiments)\n",
    "    all_experiments_results = perform_t_test(data)\n",
    "\n",
    "    # exp1_results = perform_t_test(exp1_df)\n",
    "    # exp2_results = perform_t_test(exp2_df)\n",
    "    # exp3_results = perform_t_test(exp3_df)\n",
    "    test_results = analyze_test_results(all_experiments_results, f'data/{plate_type}/all_plates.csv')\n",
    "    save_path = f\"predictions/{plate_type}_3plates.xlsx\"\n",
    "    save_all_to_excel(test_results, f\"predictions/{plate_type}_3plates.xlsx\")    \n"
   ]
  },
  {
   "cell_type": "code",
   "execution_count": 14,
   "metadata": {},
   "outputs": [
    {
     "name": "stderr",
     "output_type": "stream",
     "text": [
      "/tmp/ipykernel_2157763/2327352467.py:17: FutureWarning: save is not part of the public API, usage can give unexpected results and will be removed in a future version\n",
      "  writer.save()\n"
     ]
    }
   ],
   "source": [
    "if __name__ == '__main__':\n",
    "    main()\n",
    "    ##################################\n",
    "    ## the t-test may not be accurate because exp group and control group are very similar in 4 tests"
   ]
  },
  {
   "cell_type": "code",
   "execution_count": 21,
   "metadata": {},
   "outputs": [
    {
     "name": "stderr",
     "output_type": "stream",
     "text": [
      "No artists with labels found to put in legend.  Note that artists whose label start with an underscore are ignored when legend() is called with no argument.\n",
      "No artists with labels found to put in legend.  Note that artists whose label start with an underscore are ignored when legend() is called with no argument.\n"
     ]
    },
    {
     "data": {
      "text/plain": [
       "('/home/poojaparameswaran/Documents/SoderlingLab/MEA_analysis/plots/DIV19/t_stat_DIV19',\n",
       " '/home/poojaparameswaran/Documents/SoderlingLab/MEA_analysis/plots/DIV19/regulation_count.png',\n",
       " '/home/poojaparameswaran/Documents/SoderlingLab/MEA_analysis/plots/DIV19/p_value_distribution_DIV19.png')"
      ]
     },
     "execution_count": 21,
     "metadata": {},
     "output_type": "execute_result"
    }
   ],
   "source": [
    "# Save the plots as images\n",
    "t_statistic_path = f\"{currdir}/plots/{plate_type}/t_stat_{plate_type}\"\n",
    "regulation_path = f\"{currdir}/plots/{plate_type}/regulation_count.png\"\n",
    "p_value_path = f\"{currdir}/plots/{plate_type}/p_value_distribution_{plate_type}.png\"\n",
    "save_path = f\"predictions/{plate_type}_3plates.xlsx\"\n",
    "\n",
    "currdir = os.getcwd()\n",
    "parent = os.path.dirname(currdir)\n",
    "\n",
    "data = pd.read_excel(currdir + \"/\" +save_path )\n",
    "# Saving T-statistic vs. Test Types\n",
    "plt.figure(figsize=(10, 6))\n",
    "sns.boxplot(y='Test Types', x='T-statistic', data=data, palette='coolwarm')\n",
    "plt.title('Distribution of T-statistic Values for Different Test Types')\n",
    "plt.xlabel('T-statistic')\n",
    "plt.ylabel('Test Types')\n",
    "plt.legend(title='T statistic', loc = 'lower right')\n",
    "plt.tight_layout()\n",
    "plt.savefig(t_statistic_path)\n",
    "plt.close()\n",
    "\n",
    "# Saving Regulation Count for each Test Type\n",
    "plt.figure(figsize=(10, 6))\n",
    "sns.countplot(y='Test Types', hue='Regulation', data=data, palette='muted')\n",
    "plt.title('Number of Up-regulated vs. Down-regulated Genes per Test Type')\n",
    "plt.xlabel('Number of Genes')\n",
    "plt.ylabel('Test Types')\n",
    "plt.legend(title='Regulation', loc='lower right')\n",
    "plt.tight_layout()\n",
    "plt.savefig(regulation_path)\n",
    "plt.close()\n",
    "\n",
    "# Saving P-value Distribution for each Test Type\n",
    "plt.figure(figsize=(10, 6))\n",
    "sns.violinplot(y='Test Types', x='P-value', data=data, palette='viridis', inner='quartile')\n",
    "plt.title('Distribution of P-values for Different Test Types')\n",
    "plt.xlabel('P-value')\n",
    "plt.ylabel('Test Types')\n",
    "plt.xscale('log')\n",
    "plt.legend(title='P value', loc = 'lower right')\n",
    "plt.tight_layout()\n",
    "plt.savefig(p_value_path)\n",
    "plt.close()\n",
    "\n",
    "t_statistic_path, regulation_path, p_value_path\n"
   ]
  },
  {
   "cell_type": "code",
   "execution_count": null,
   "metadata": {},
   "outputs": [],
   "source": []
  }
 ],
 "metadata": {
  "kernelspec": {
   "display_name": "dataenv",
   "language": "python",
   "name": "python3"
  },
  "language_info": {
   "codemirror_mode": {
    "name": "ipython",
    "version": 3
   },
   "file_extension": ".py",
   "mimetype": "text/x-python",
   "name": "python",
   "nbconvert_exporter": "python",
   "pygments_lexer": "ipython3",
   "version": "3.11.4"
  }
 },
 "nbformat": 4,
 "nbformat_minor": 4
}
